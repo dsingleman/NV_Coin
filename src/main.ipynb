{
 "cells": [
  {
   "cell_type": "code",
   "execution_count": 1,
   "metadata": {
    "ExecuteTime": {
     "end_time": "2022-02-21T16:01:29.565728Z",
     "start_time": "2022-02-21T16:01:27.649875Z"
    }
   },
   "outputs": [],
   "source": [
    "from selenium import webdriver\n",
    "from selenium.webdriver.chrome.options import Options\n",
    "import time\n",
    "from datetime import date\n",
    "import pandas as pd\n",
    "\n",
    "def getNames(sleepSec = 5):\n",
    "    \"\"\"\n",
    "    \"\"\"\n",
    "    url = \"https://www.coinbase.com/ventures\"\n",
    "    driver = webdriver.Chrome(\"C:\\Webdrivers\\chromedriver\")\n",
    "    driver.get(url)\n",
    "    time.sleep(sleepSec)\n",
    "    prev_height = driver.execute_script('return document.body.scrollHeight')\n",
    "    ### This is the part that you really need         \n",
    "    while True:\n",
    "        driver.execute_script('window.scrollTo(0,document.body.scrollHeight);')\n",
    "        time.sleep(sleepSec)\n",
    "        new_height = driver.execute_script('return document.body.scrollHeight')\n",
    "        if new_height == prev_height:\n",
    "            break\n",
    "        prev_height = new_height\n",
    "\n",
    "\n",
    "    locContent = driver.page_source.split(\"p-0 text-center card collection-card me\")\n",
    "    locContent = driver.page_source.split(\"LogoCard__Link-m4u6vn-0 bIsJm\")\n",
    "    locListUrl = []\n",
    "    for c_ in locContent[1:]:\n",
    "        labelName = c_.split(\"aria-label=\")[1].split('\"')[1]\n",
    "        locListUrl.append(labelName)\n",
    "    return locListUrl"
   ]
  },
  {
   "cell_type": "code",
   "execution_count": 2,
   "metadata": {
    "ExecuteTime": {
     "end_time": "2022-02-21T16:01:29.581690Z",
     "start_time": "2022-02-21T16:01:29.567729Z"
    }
   },
   "outputs": [
    {
     "data": {
      "text/plain": [
       "'\\nCreate initTable\\n'"
      ]
     },
     "execution_count": 2,
     "metadata": {},
     "output_type": "execute_result"
    }
   ],
   "source": [
    "\"\"\"\n",
    "Create initTable\n",
    "\"\"\"\n",
    "# locListUrl = getNames(sleepSec = 5)\n",
    "# today = date.today()\n",
    "# d = {'Date':[today]*len(locListUrl),'ProjectName':locListUrl}\n",
    "\n",
    "# initTable = pd.DataFrame(d)\n",
    "# initTable.to_excel(\"../data/initTable.xlsx\",index = False)"
   ]
  },
  {
   "cell_type": "code",
   "execution_count": 3,
   "metadata": {
    "ExecuteTime": {
     "end_time": "2022-02-21T16:01:29.769282Z",
     "start_time": "2022-02-21T16:01:29.750332Z"
    }
   },
   "outputs": [],
   "source": [
    "def UpdateTable():\n",
    "    \"\"\"\n",
    "    \"\"\"\n",
    "    locUpdateList = getNames(sleepSec = 5)\n",
    "    locCurrentTable = pd.read_excel(\"../data/initTable.xlsx\",)\n",
    "    locCurrentList = list(locCurrentTable[\"ProjectName\"])\n",
    "    locNewProjectList = []\n",
    "    for p_ in locUpdateList:\n",
    "        if p_ not in locCurrentList:\n",
    "            locNewProjectList.append(p_)\n",
    "    if len(locNewProjectList) > 0 :\n",
    "        today = date.today()\n",
    "        d = {'Date':[today]*len(locNewProjectList),'ProjectName':locNewProjectList}\n",
    "        newTable = pd.concat([locCurrentTable, pd.DataFrame(d)], ignore_index=True)\n",
    "        newTable.to_excel(\"../data/initTable.xlsx\",index = False)\n",
    "        print(\"Table Updated\")\n",
    "        print(locNewProjectList)\n",
    "        return newTable\n",
    "    else :\n",
    "        print(\"Nothing to update\")\n",
    "        return locCurrentTable\n",
    "        \n",
    "    "
   ]
  },
  {
   "cell_type": "code",
   "execution_count": 4,
   "metadata": {
    "ExecuteTime": {
     "end_time": "2022-02-21T16:01:48.399183Z",
     "start_time": "2022-02-21T16:01:31.082300Z"
    }
   },
   "outputs": [
    {
     "name": "stdout",
     "output_type": "stream",
     "text": [
      "Nothing to update\n"
     ]
    }
   ],
   "source": [
    "locTable = UpdateTable()"
   ]
  },
  {
   "cell_type": "code",
   "execution_count": null,
   "metadata": {},
   "outputs": [],
   "source": []
  }
 ],
 "metadata": {
  "kernelspec": {
   "display_name": "Python 3",
   "language": "python",
   "name": "python3"
  },
  "language_info": {
   "codemirror_mode": {
    "name": "ipython",
    "version": 3
   },
   "file_extension": ".py",
   "mimetype": "text/x-python",
   "name": "python",
   "nbconvert_exporter": "python",
   "pygments_lexer": "ipython3",
   "version": "3.7.3"
  },
  "latex_envs": {
   "LaTeX_envs_menu_present": true,
   "autoclose": false,
   "autocomplete": true,
   "bibliofile": "biblio.bib",
   "cite_by": "apalike",
   "current_citInitial": 1,
   "eqLabelWithNumbers": true,
   "eqNumInitial": 1,
   "hotkeys": {
    "equation": "Ctrl-E",
    "itemize": "Ctrl-I"
   },
   "labels_anchors": false,
   "latex_user_defs": false,
   "report_style_numbering": false,
   "user_envs_cfg": false
  }
 },
 "nbformat": 4,
 "nbformat_minor": 2
}
